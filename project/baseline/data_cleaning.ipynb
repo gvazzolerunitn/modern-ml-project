{
 "cells": [
  {
   "cell_type": "markdown",
   "id": "d9bde109",
   "metadata": {},
   "source": [
    "## Data cleaning\n",
    "Focus on just \"Completed\" records"
   ]
  },
  {
   "cell_type": "code",
   "execution_count": 1,
   "id": "a40d1b81",
   "metadata": {},
   "outputs": [],
   "source": [
    "import pandas as pd"
   ]
  },
  {
   "cell_type": "code",
   "execution_count": 2,
   "id": "796c03f1",
   "metadata": {},
   "outputs": [],
   "source": [
    "data = pd.read_csv('../data/kernel/receivals.csv')"
   ]
  },
  {
   "cell_type": "markdown",
   "id": "6bbc1569",
   "metadata": {},
   "source": [
    "#### 1. Filtra solo i record completati\n"
   ]
  },
  {
   "cell_type": "code",
   "execution_count": 3,
   "id": "0c695125",
   "metadata": {},
   "outputs": [
    {
     "name": "stdout",
     "output_type": "stream",
     "text": [
      "Dataset originale: 122590 record\n",
      "Dataset filtrato (Completed): 122448 record\n"
     ]
    }
   ],
   "source": [
    "print(f\"Dataset originale: {len(data)} record\")\n",
    "data_clean = data[data['receival_status'] == 'Completed'].copy()\n",
    "print(f\"Dataset filtrato (Completed): {len(data_clean)} record\")"
   ]
  },
  {
   "cell_type": "markdown",
   "id": "135faf5d",
   "metadata": {},
   "source": [
    "#### 2. Rimuovi record con net_weight mancante\n"
   ]
  },
  {
   "cell_type": "code",
   "execution_count": 4,
   "id": "8aeea402",
   "metadata": {},
   "outputs": [
    {
     "name": "stdout",
     "output_type": "stream",
     "text": [
      "Dopo rimozione net_weight mancanti: 122438 record\n"
     ]
    }
   ],
   "source": [
    "data_clean = data_clean.dropna(subset=['net_weight'])\n",
    "print(f\"Dopo rimozione net_weight mancanti: {len(data_clean)} record\")"
   ]
  },
  {
   "cell_type": "markdown",
   "id": "46bdb80a",
   "metadata": {},
   "source": [
    "#### 3. Verifica e gestisci valori anomali (es. peso = 0)"
   ]
  },
  {
   "cell_type": "code",
   "execution_count": 5,
   "id": "7d3352e5",
   "metadata": {},
   "outputs": [
    {
     "name": "stdout",
     "output_type": "stream",
     "text": [
      "\n",
      "Record con peso = 0: 125\n"
     ]
    }
   ],
   "source": [
    "print(f\"\\nRecord con peso = 0: {(data_clean['net_weight'] == 0).sum()}\")\n",
    "# Decidi se rimuoverli o tenerli\n",
    "data_clean = data_clean[data_clean['net_weight'] > 0]"
   ]
  },
  {
   "cell_type": "markdown",
   "id": "202056d6",
   "metadata": {},
   "source": [
    "#### 4. Elimina batch_id (troppi missing, 47%)\n"
   ]
  },
  {
   "cell_type": "code",
   "execution_count": 6,
   "id": "dfa32455",
   "metadata": {},
   "outputs": [],
   "source": [
    "data_clean = data_clean.drop('batch_id', axis=1)"
   ]
  },
  {
   "cell_type": "markdown",
   "id": "60c6a63e",
   "metadata": {},
   "source": [
    "#### 5. Gestisci missing values rimanenti"
   ]
  },
  {
   "cell_type": "code",
   "execution_count": 7,
   "id": "7b929cbd",
   "metadata": {},
   "outputs": [
    {
     "name": "stdout",
     "output_type": "stream",
     "text": [
      "\n",
      "📊 Missing values dopo pulizia:\n",
      "rm_id                     0\n",
      "product_id                0\n",
      "purchase_order_id         0\n",
      "purchase_order_item_no    0\n",
      "receival_item_no          0\n",
      "date_arrival              0\n",
      "receival_status           0\n",
      "net_weight                0\n",
      "supplier_id               0\n",
      "dtype: int64\n"
     ]
    }
   ],
   "source": [
    "print(\"\\n📊 Missing values dopo pulizia:\")\n",
    "print(data_clean.isnull().sum())"
   ]
  },
  {
   "cell_type": "markdown",
   "id": "880a49cc",
   "metadata": {},
   "source": [
    "#### Imputa missing per rm_id, product_id, purchase_order_id con valori speciali\n"
   ]
  },
  {
   "cell_type": "code",
   "execution_count": 10,
   "id": "cf878066",
   "metadata": {},
   "outputs": [
    {
     "name": "stdout",
     "output_type": "stream",
     "text": [
      "\n",
      "Dataset finale pronto per feature engineering: 122313 record\n"
     ]
    },
    {
     "data": {
      "text/html": [
       "<div>\n",
       "<style scoped>\n",
       "    .dataframe tbody tr th:only-of-type {\n",
       "        vertical-align: middle;\n",
       "    }\n",
       "\n",
       "    .dataframe tbody tr th {\n",
       "        vertical-align: top;\n",
       "    }\n",
       "\n",
       "    .dataframe thead th {\n",
       "        text-align: right;\n",
       "    }\n",
       "</style>\n",
       "<table border=\"1\" class=\"dataframe\">\n",
       "  <thead>\n",
       "    <tr style=\"text-align: right;\">\n",
       "      <th></th>\n",
       "      <th>rm_id</th>\n",
       "      <th>product_id</th>\n",
       "      <th>purchase_order_id</th>\n",
       "      <th>purchase_order_item_no</th>\n",
       "      <th>receival_item_no</th>\n",
       "      <th>date_arrival</th>\n",
       "      <th>receival_status</th>\n",
       "      <th>net_weight</th>\n",
       "      <th>supplier_id</th>\n",
       "    </tr>\n",
       "  </thead>\n",
       "  <tbody>\n",
       "    <tr>\n",
       "      <th>0</th>\n",
       "      <td>365.0</td>\n",
       "      <td>91900143.0</td>\n",
       "      <td>208545.0</td>\n",
       "      <td>10.0</td>\n",
       "      <td>1</td>\n",
       "      <td>2004-06-15 13:34:00 +02:00</td>\n",
       "      <td>Completed</td>\n",
       "      <td>11420.0</td>\n",
       "      <td>52062</td>\n",
       "    </tr>\n",
       "    <tr>\n",
       "      <th>1</th>\n",
       "      <td>365.0</td>\n",
       "      <td>91900143.0</td>\n",
       "      <td>208545.0</td>\n",
       "      <td>10.0</td>\n",
       "      <td>2</td>\n",
       "      <td>2004-06-15 13:34:00 +02:00</td>\n",
       "      <td>Completed</td>\n",
       "      <td>13760.0</td>\n",
       "      <td>52062</td>\n",
       "    </tr>\n",
       "    <tr>\n",
       "      <th>2</th>\n",
       "      <td>365.0</td>\n",
       "      <td>91900143.0</td>\n",
       "      <td>208490.0</td>\n",
       "      <td>10.0</td>\n",
       "      <td>1</td>\n",
       "      <td>2004-06-15 13:38:00 +02:00</td>\n",
       "      <td>Completed</td>\n",
       "      <td>11281.0</td>\n",
       "      <td>50468</td>\n",
       "    </tr>\n",
       "    <tr>\n",
       "      <th>3</th>\n",
       "      <td>365.0</td>\n",
       "      <td>91900143.0</td>\n",
       "      <td>208490.0</td>\n",
       "      <td>10.0</td>\n",
       "      <td>2</td>\n",
       "      <td>2004-06-15 13:38:00 +02:00</td>\n",
       "      <td>Completed</td>\n",
       "      <td>13083.0</td>\n",
       "      <td>50468</td>\n",
       "    </tr>\n",
       "    <tr>\n",
       "      <th>4</th>\n",
       "      <td>379.0</td>\n",
       "      <td>91900296.0</td>\n",
       "      <td>210435.0</td>\n",
       "      <td>20.0</td>\n",
       "      <td>1</td>\n",
       "      <td>2004-06-15 13:40:00 +02:00</td>\n",
       "      <td>Completed</td>\n",
       "      <td>23910.0</td>\n",
       "      <td>52577</td>\n",
       "    </tr>\n",
       "  </tbody>\n",
       "</table>\n",
       "</div>"
      ],
      "text/plain": [
       "   rm_id  product_id  purchase_order_id  purchase_order_item_no  \\\n",
       "0  365.0  91900143.0           208545.0                    10.0   \n",
       "1  365.0  91900143.0           208545.0                    10.0   \n",
       "2  365.0  91900143.0           208490.0                    10.0   \n",
       "3  365.0  91900143.0           208490.0                    10.0   \n",
       "4  379.0  91900296.0           210435.0                    20.0   \n",
       "\n",
       "   receival_item_no                date_arrival receival_status  net_weight  \\\n",
       "0                 1  2004-06-15 13:34:00 +02:00       Completed     11420.0   \n",
       "1                 2  2004-06-15 13:34:00 +02:00       Completed     13760.0   \n",
       "2                 1  2004-06-15 13:38:00 +02:00       Completed     11281.0   \n",
       "3                 2  2004-06-15 13:38:00 +02:00       Completed     13083.0   \n",
       "4                 1  2004-06-15 13:40:00 +02:00       Completed     23910.0   \n",
       "\n",
       "   supplier_id  \n",
       "0        52062  \n",
       "1        52062  \n",
       "2        50468  \n",
       "3        50468  \n",
       "4        52577  "
      ]
     },
     "execution_count": 10,
     "metadata": {},
     "output_type": "execute_result"
    }
   ],
   "source": [
    "data_clean['rm_id'] = data_clean['rm_id'].fillna(-1)\n",
    "data_clean['product_id'] = data_clean['product_id'].fillna(-1)\n",
    "data_clean['purchase_order_id'] = data_clean['purchase_order_id'].fillna(-1)\n",
    "data_clean['purchase_order_item_no'] = data_clean['purchase_order_item_no'].fillna(-1)\n",
    "\n",
    "print(f\"\\nDataset finale pronto per feature engineering: {len(data_clean)} record\")\n",
    "data_clean.head()\n",
    "\n"
   ]
  },
  {
   "cell_type": "code",
   "execution_count": 11,
   "id": "7872b4ae",
   "metadata": {},
   "outputs": [],
   "source": [
    "data_clean.to_csv('data_clean.csv', index=False)"
   ]
  }
 ],
 "metadata": {
  "kernelspec": {
   "display_name": "ntnu",
   "language": "python",
   "name": "python3"
  },
  "language_info": {
   "codemirror_mode": {
    "name": "ipython",
    "version": 3
   },
   "file_extension": ".py",
   "mimetype": "text/x-python",
   "name": "python",
   "nbconvert_exporter": "python",
   "pygments_lexer": "ipython3",
   "version": "3.12.11"
  }
 },
 "nbformat": 4,
 "nbformat_minor": 5
}
